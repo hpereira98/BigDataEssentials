{
 "cells": [
  {
   "cell_type": "markdown",
   "metadata": {},
   "source": [
    "#### Common warnings:\n",
    "\n",
    "1. __Backup your solution into the 'work' directory inside the home directory ('/home/jovyan'). It is the only one that state will be saved over sessions.__\n",
    "\n",
    "1. Please, ensure that you call the right interpreter (python2 or python3). Do not write just \"python\" without the major version. There is no guarantee that any particular version of Python is set as the default one in the Grading system.\n",
    "\n",
    "1. One cell must contain only one programming language.\n",
    "E.g. if a cell contains Python code and you also want to call a bash-command (using “!”) in it, you should move the bash to another cell.\n",
    "\n",
    "1. Our IPython converter is an improved version of the standard converter Nbconvert and it can process most of Jupyter's magic commands correctly (e.g. it understands \"%%bash\" and executes the cell as a \"bash\"-script). However, we highly recommend to avoid magics wherever possible.\n",
    "\n",
    "#### Spark specific warnings:\n",
    "\n",
    "1. It is a good practice to run Spark with master \"yarn\". However, containered system's performance is limited. If you see repeating Py4JavaErrors or Py4JNetworkErrors exceptions which you assume are not relevant to your code, feel free to change master to “local”.\n",
    "\n",
    "1. You should eliminate extra symbols in output (such as quotes, brackets etc.). When you finally get the resulting dataframe it is easier to print wiki.take(1) instead of traverse RDD using for cycle. But in this case a lot of junk symbols will be printed like: `[['Anarchism', 'is', .. ]]`. See the right output example in the task."
   ]
  },
  {
   "cell_type": "code",
   "execution_count": 2,
   "metadata": {},
   "outputs": [],
   "source": [
    "from pyspark import SparkConf, SparkContext\n",
    "sc = SparkContext(conf=SparkConf().setAppName(\"MyApp\").setMaster(\"yarn\"))"
   ]
  },
  {
   "cell_type": "code",
   "execution_count": 11,
   "metadata": {
    "scrolled": false
   },
   "outputs": [],
   "source": [
    "import re\n",
    "import math\n",
    "\n",
    "def parse_article(line):\n",
    "    try:\n",
    "        article_id, text = line.rstrip().split('\\t', 1)\n",
    "        text = re.sub(\"^\\W+|\\W+$\", \"\", text, flags=re.UNICODE)\n",
    "        words = re.split(\"\\W*\\s+\\W*\", text, flags=re.UNICODE)\n",
    "        return words\n",
    "    except ValueError as e:\n",
    "        return []\n",
    "    \n",
    "def lower_all(words):\n",
    "    result = []\n",
    "    for word in words:\n",
    "        result.append(word.lower())\n",
    "    return result\n",
    "        \n",
    "def bigrams_getter(words):\n",
    "    pairs = []\n",
    "    for i in range(len(words)-1):\n",
    "        pair = words[i].lower() + '_' + words[i+1].lower()\n",
    "        pairs.append((pair, 1))\n",
    "    return pairs\n",
    "\n",
    "def word_count(words):\n",
    "    counts = []\n",
    "    for word in words:\n",
    "        counts.append((word.lower(), 1))\n",
    "    return counts\n",
    "\n",
    "def remove_stopwords(words):\n",
    "    result = []\n",
    "    for word in words:\n",
    "        if word not in stopwords_broadcast.value:\n",
    "            result.append(word)\n",
    "    return result\n",
    "\n",
    "def npmi(value):\n",
    "    pair, count = value\n",
    "    word_1, word_2 = pair.split(\"_\")\n",
    "    word_1_count = word_pairs_map.value[word_1]\n",
    "    word_2_count = word_pairs_map.value[word_2]\n",
    "    \n",
    "    pair_prob = float(count) / total_pairs.value\n",
    "    word_1_prob = float(word_1_count) / total_words.value\n",
    "    word_2_prob = float(word_2_count) / total_words.value\n",
    "    \n",
    "    pmi = math.log(pair_prob / (word_1_prob * word_2_prob))\n",
    "    npmi = pmi / (-1 * math.log(pair_prob))\n",
    "    return (pair, npmi)\n",
    "\n",
    "# get stopwords\n",
    "with open(\"/datasets/stop_words_en.txt\", \"r\") as f:\n",
    "    stopwords = f.read().splitlines()\n",
    "    \n",
    "stopwords_broadcast = sc.broadcast(stopwords)\n",
    "\n",
    "# wiki words without stopwords\n",
    "wiki = sc.textFile(\"/data/wiki/en_articles_part/articles-part\", 16).map(parse_article).map(lower_all).map(remove_stopwords).cache()"
   ]
  },
  {
   "cell_type": "code",
   "execution_count": 12,
   "metadata": {},
   "outputs": [],
   "source": [
    "# get rdd pairs (words and bigrams)\n",
    "bigram_pairs = wiki.flatMap(lambda x: bigrams_getter(x)).reduceByKey(lambda x,y: x+y).cache()\n",
    "word_pairs = wiki.flatMap(lambda x: word_count(x)).reduceByKey(lambda x,y: x+y).cache()"
   ]
  },
  {
   "cell_type": "code",
   "execution_count": 13,
   "metadata": {},
   "outputs": [],
   "source": [
    "# set total words and total bigrams as broadcast vars\n",
    "total_words = word_pairs.map(lambda value: value[1]).sum()\n",
    "total_words = sc.broadcast(total_words)\n",
    "\n",
    "total_pairs = bigram_pairs.map(lambda value: value[1]).sum()\n",
    "total_pairs = sc.broadcast(total_pairs)"
   ]
  },
  {
   "cell_type": "code",
   "execution_count": 14,
   "metadata": {},
   "outputs": [],
   "source": [
    "# set word_pairs as map to allow easy fetching and broadcast it\n",
    "word_pairs_map = word_pairs.collectAsMap()\n",
    "word_pairs_map = sc.broadcast(word_pairs_map)"
   ]
  },
  {
   "cell_type": "code",
   "execution_count": 16,
   "metadata": {},
   "outputs": [
    {
     "name": "stdout",
     "output_type": "stream",
     "text": [
      "los_angeles\n",
      "external_links\n",
      "united_states\n",
      "prime_minister\n",
      "san_francisco\n",
      "et_al\n",
      "new_york\n",
      "supreme_court\n",
      "19th_century\n",
      "20th_century\n",
      "references_external\n",
      "soviet_union\n",
      "air_force\n",
      "baseball_player\n",
      "university_press\n",
      "roman_catholic\n",
      "united_kingdom\n",
      "references_reading\n",
      "notes_references\n",
      "award_best\n",
      "north_america\n",
      "new_zealand\n",
      "civil_war\n",
      "catholic_church\n",
      "world_war\n",
      "war_ii\n",
      "south_africa\n",
      "took_place\n",
      "roman_empire\n",
      "united_nations\n",
      "american_singer-songwriter\n",
      "high_school\n",
      "american_actor\n",
      "american_actress\n",
      "american_baseball\n",
      "york_city\n",
      "american_football\n",
      "years_later\n",
      "north_american\n"
     ]
    }
   ],
   "source": [
    "result = bigram_pairs.filter(lambda x: x[1] >= 500).map(lambda x: npmi(x)).sortBy(lambda value: value[1], ascending=False).take(39)\n",
    "\n",
    "for val in result:\n",
    "    print(val[0])"
   ]
  },
  {
   "cell_type": "code",
   "execution_count": null,
   "metadata": {},
   "outputs": [],
   "source": []
  },
  {
   "cell_type": "code",
   "execution_count": null,
   "metadata": {},
   "outputs": [],
   "source": []
  }
 ],
 "metadata": {
  "kernelspec": {
   "display_name": "Python 3",
   "language": "python",
   "name": "python3"
  },
  "language_info": {
   "codemirror_mode": {
    "name": "ipython",
    "version": 3
   },
   "file_extension": ".py",
   "mimetype": "text/x-python",
   "name": "python",
   "nbconvert_exporter": "python",
   "pygments_lexer": "ipython3",
   "version": "3.6.6"
  }
 },
 "nbformat": 4,
 "nbformat_minor": 2
}
