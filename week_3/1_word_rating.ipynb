{
 "cells": [
  {
   "cell_type": "markdown",
   "metadata": {},
   "source": [
    "#### Common warnings:\n",
    "\n",
    "1. __Backup your solution into the 'work' directory inside the home directory ('/home/jovyan'). It is the only one that state will be saved over sessions.__\n",
    "\n",
    "1. Please, ensure that you call the right interpreter (python2 or python3). Do not write just \"python\" without the major version. There is no guarantee that any particular version of Python is set as the default one in the Grading system.\n",
    "\n",
    "1. One cell must contain only one programming language.\n",
    "E.g. if a cell contains Python code and you also want to call a bash-command (using “!”) in it, you should move the bash to another cell.\n",
    "\n",
    "1. Our IPython converter is an improved version of the standard converter Nbconvert and it can process most of Jupyter's magic commands correctly (e.g. it understands \"%%bash\" and executes the cell as a \"bash\"-script). However, we highly recommend to avoid magics wherever possible.\n",
    "\n",
    "#### Hints for the YARN tasks:\n",
    "\n",
    "1. Please, use relative HDFS paths, i.e. dir1/file1 instead of /user/jovyan/dir1/file1. When you submit the code it will be executed on a real Hadoop cluster. For instance, user ‘jovyan’ may not exist there.\n",
    "\n",
    "1. Hadoop counters’ names should have only small latin letters. One exception: only the first letter of the name can be in upper case.\n",
    "\n",
    "1. In the Hadoop logs the counter of stop words should be before the counter of total words. For doing this please take into account that the counters are printed in the lexicographical order."
   ]
  },
  {
   "cell_type": "markdown",
   "metadata": {},
   "source": [
    "# Hadoop Streaming assignment 1: Words Rating"
   ]
  },
  {
   "cell_type": "markdown",
   "metadata": {},
   "source": [
    "The purpose of this task is to create your own WordCount program for Wikipedia dump processing and learn basic concepts of the MapReduce.\n",
    "\n",
    "In this task you have to find the 7th word by popularity and its quantity in the reverse order (most popular first) in Wikipedia data (`/data/wiki/en_articles_part`).\n",
    "\n",
    "There are several points for this task:\n",
    "\n",
    "1) As an output, you have to get the 7th word and its quantity separated by a tab character.\n",
    "\n",
    "2) You must use the second job to obtain a totally ordered result.\n",
    "\n",
    "3) Do not forget to redirect all trash and output to /dev/null.\n",
    "\n",
    "Here you can find the draft of the task main steps. You can use other methods for solution obtaining."
   ]
  },
  {
   "cell_type": "markdown",
   "metadata": {},
   "source": [
    "## Step 1. Create mapper and reducer.\n",
    "\n",
    "<b>Hint:</b>  Demo task contains almost all the necessary pieces to complete this assignment. You may use the demo to implement the first MapReduce Job."
   ]
  },
  {
   "cell_type": "code",
   "execution_count": 1,
   "metadata": {},
   "outputs": [
    {
     "name": "stdout",
     "output_type": "stream",
     "text": [
      "Overwriting mapper.py\n"
     ]
    }
   ],
   "source": [
    "%%writefile mapper.py\n",
    "\n",
    "import sys\n",
    "import re\n",
    "\n",
    "\n",
    "def eprint(*args, **kwargs):\n",
    "    print(*args, file=sys.stderr, **kwargs)\n",
    "\n",
    "for line in sys.stdin:\n",
    "    try:\n",
    "        article_id, text = line.strip().split('\\t', 1)\n",
    "    except ValueError as e:\n",
    "        continue\n",
    "    words = re.split(\"\\W*\\s+\\W*\", text, flags=re.UNICODE)\n",
    "    for word in words:\n",
    "        eprint(\"reporter:counter:Wiki stats,Total words,%d\" % 1)\n",
    "        print(\"%s\\t%d\" % (word.lower(), 1))"
   ]
  },
  {
   "cell_type": "code",
   "execution_count": 2,
   "metadata": {},
   "outputs": [
    {
     "name": "stdout",
     "output_type": "stream",
     "text": [
      "Overwriting reducer.py\n"
     ]
    }
   ],
   "source": [
    "%%writefile reducer.py\n",
    "\n",
    "import sys\n",
    "\n",
    "current_key = None\n",
    "word_sum = 0\n",
    "\n",
    "for line in sys.stdin:\n",
    "    try:\n",
    "        key, count = line.strip().split('\\t', 1)\n",
    "        count = int(count)\n",
    "    except ValueError as e:\n",
    "        continue\n",
    "    if current_key != key:\n",
    "        if current_key:\n",
    "            print(\"%s\\t%d\" % (current_key, word_sum))\n",
    "        word_sum = 0\n",
    "        current_key = key\n",
    "    word_sum += count\n",
    "\n",
    "if current_key:\n",
    "    print(\"%s\\t%d\" % (current_key, word_sum))"
   ]
  },
  {
   "cell_type": "code",
   "execution_count": 3,
   "metadata": {},
   "outputs": [],
   "source": [
    "# You can use this cell for other experiments: for example, for combiner."
   ]
  },
  {
   "cell_type": "markdown",
   "metadata": {},
   "source": [
    "## Step 2. Create sort job.\n",
    "\n",
    "<b>Hint:</b> You may use MapReduce comparator to solve this step. Make sure that the keys are sorted in ascending order."
   ]
  },
  {
   "cell_type": "code",
   "execution_count": 4,
   "metadata": {},
   "outputs": [
    {
     "name": "stdout",
     "output_type": "stream",
     "text": [
      "Overwriting mapper_1.py\n"
     ]
    }
   ],
   "source": [
    "%%writefile mapper_1.py\n",
    "\n",
    "import sys\n",
    "\n",
    "for line in sys.stdin:\n",
    "    try:\n",
    "        word, count = line.strip().split('\\t', 1)\n",
    "        count = int(count)\n",
    "        print(\"%d\\t%s\" % (count, word))\n",
    "    except ValueError as e:\n",
    "        continue"
   ]
  },
  {
   "cell_type": "code",
   "execution_count": 5,
   "metadata": {},
   "outputs": [
    {
     "name": "stdout",
     "output_type": "stream",
     "text": [
      "Overwriting reducer_1.py\n"
     ]
    }
   ],
   "source": [
    "%%writefile reducer_1.py\n",
    "\n",
    "import sys\n",
    "\n",
    "def eprint(*args, **kwargs):\n",
    "    print(*args, file=sys.stderr, **kwargs)\n",
    "\n",
    "for line in sys.stdin:\n",
    "    try:\n",
    "        count, word = line.strip().split('\\t', 1)\n",
    "        count = int(count)\n",
    "        print(\"%s\\t%d\" % (word, count))\n",
    "    except ValueError as e:\n",
    "        continue"
   ]
  },
  {
   "cell_type": "markdown",
   "metadata": {},
   "source": [
    "## Step 3. Bash commands\n",
    "\n",
    "<b> Hint: </b> For printing the exact row you may use basic UNIX commands. For instance, sed/head/tail/... (if you know other commands, you can use them).\n",
    "\n",
    "To run both jobs, you must use two consecutive yarn-commands. Remember that the input for the second job is the ouput for the first job.\n",
    "\n",
    "__NB__: Please, use a defined python major version (e.g. `python3 mappper.py` instead of `python mapper.py`)!"
   ]
  },
  {
   "cell_type": "markdown",
   "metadata": {},
   "source": [
    "Only the answer to your task should be printed in the output stream (__stdout__) in the last cell. There should be no more output in this stream. In order to get rid of garbage [junk lines] (e.g. created by `hdfs dfs -rm` or `yarn` commands) redirect the output to /dev/null.\n",
    "\n",
    "#### Final notice:\n",
    "\n",
    "1. Please take into account that you must __not__ redirect __stderr__ to anywhere. Hadoop, Hive, and Spark print their logs to stderr and the Grading system also reads and analyses it.\n",
    "\n",
    "1. During checking the code from the notebook, the system runs all notebook's cells and reads the output of only the last filled cell. It is clear that any exception should not be thrown in the running cells. If you decide to write some text in a cell, you should change the style of the cell to Markdown (Cell -> Cell type -> Markdown).\n",
    "\n",
    "1. The Grader takes into account the output from the sample dataset you have in the notebook. Therefore, you have to \"Run All\" cells in the notebook before you send the ipynb solution.\n",
    "\n",
    "1. The name of the notebook must contain only Roman letters, numbers and characters “-” or “_”. For example, Windows adds something like \" (2)\" (with the leading space) at the end of a filename if you try to download a file with the same name. This is a problem, because you will have a space character and curly braces \"(\" and \")\". "
   ]
  },
  {
   "cell_type": "code",
   "execution_count": 10,
   "metadata": {},
   "outputs": [
    {
     "name": "stdout",
     "output_type": "stream",
     "text": [
      "is\t126420\n"
     ]
    },
    {
     "name": "stderr",
     "output_type": "stream",
     "text": [
      "rm: `wordcount_result_1601749278509631': No such file or directory\n",
      "rm: `wordcount_result1_1601749278511177': No such file or directory\n",
      "20/10/03 18:21:22 INFO client.RMProxy: Connecting to ResourceManager at /0.0.0.0:8032\n",
      "20/10/03 18:21:23 INFO client.RMProxy: Connecting to ResourceManager at /0.0.0.0:8032\n",
      "20/10/03 18:21:23 INFO mapred.FileInputFormat: Total input files to process : 1\n",
      "20/10/03 18:21:24 INFO mapreduce.JobSubmitter: number of splits:2\n",
      "20/10/03 18:21:24 INFO Configuration.deprecation: yarn.resourcemanager.system-metrics-publisher.enabled is deprecated. Instead, use yarn.system-metrics-publisher.enabled\n",
      "20/10/03 18:21:24 INFO mapreduce.JobSubmitter: Submitting tokens for job: job_1601735149697_0052\n",
      "20/10/03 18:21:24 INFO conf.Configuration: resource-types.xml not found\n",
      "20/10/03 18:21:24 INFO resource.ResourceUtils: Unable to find 'resource-types.xml'.\n",
      "20/10/03 18:21:24 INFO resource.ResourceUtils: Adding resource type - name = memory-mb, units = Mi, type = COUNTABLE\n",
      "20/10/03 18:21:24 INFO resource.ResourceUtils: Adding resource type - name = vcores, units = , type = COUNTABLE\n",
      "20/10/03 18:21:24 INFO impl.YarnClientImpl: Submitted application application_1601735149697_0052\n",
      "20/10/03 18:21:24 INFO mapreduce.Job: The url to track the job: http://172.17.0.92:8088/proxy/application_1601735149697_0052/\n",
      "20/10/03 18:21:24 INFO mapreduce.Job: Running job: job_1601735149697_0052\n",
      "20/10/03 18:21:30 INFO mapreduce.Job: Job job_1601735149697_0052 running in uber mode : false\n",
      "20/10/03 18:21:30 INFO mapreduce.Job:  map 0% reduce 0%\n",
      "20/10/03 18:21:47 INFO mapreduce.Job:  map 17% reduce 0%\n",
      "20/10/03 18:21:48 INFO mapreduce.Job:  map 33% reduce 0%\n",
      "20/10/03 18:21:54 INFO mapreduce.Job:  map 39% reduce 0%\n",
      "20/10/03 18:21:55 INFO mapreduce.Job:  map 44% reduce 0%\n",
      "20/10/03 18:22:00 INFO mapreduce.Job:  map 46% reduce 0%\n",
      "20/10/03 18:22:06 INFO mapreduce.Job:  map 55% reduce 0%\n",
      "20/10/03 18:22:12 INFO mapreduce.Job:  map 67% reduce 0%\n",
      "20/10/03 18:22:16 INFO mapreduce.Job:  map 100% reduce 0%\n",
      "20/10/03 18:22:22 INFO mapreduce.Job:  map 100% reduce 100%\n",
      "20/10/03 18:22:23 INFO mapreduce.Job: Job job_1601735149697_0052 completed successfully\n",
      "20/10/03 18:22:23 INFO mapreduce.Job: Counters: 50\n",
      "\tFile System Counters\n",
      "\t\tFILE: Number of bytes read=17906022\n",
      "\t\tFILE: Number of bytes written=27487271\n",
      "\t\tFILE: Number of read operations=0\n",
      "\t\tFILE: Number of large read operations=0\n",
      "\t\tFILE: Number of write operations=0\n",
      "\t\tHDFS: Number of bytes read=76874501\n",
      "\t\tHDFS: Number of bytes written=5370711\n",
      "\t\tHDFS: Number of read operations=9\n",
      "\t\tHDFS: Number of large read operations=0\n",
      "\t\tHDFS: Number of write operations=2\n",
      "\tJob Counters \n",
      "\t\tLaunched map tasks=2\n",
      "\t\tLaunched reduce tasks=1\n",
      "\t\tData-local map tasks=2\n",
      "\t\tTotal time spent by all maps in occupied slots (ms)=87667\n",
      "\t\tTotal time spent by all reduces in occupied slots (ms)=4145\n",
      "\t\tTotal time spent by all map tasks (ms)=87667\n",
      "\t\tTotal time spent by all reduce tasks (ms)=4145\n",
      "\t\tTotal vcore-milliseconds taken by all map tasks=87667\n",
      "\t\tTotal vcore-milliseconds taken by all reduce tasks=4145\n",
      "\t\tTotal megabyte-milliseconds taken by all map tasks=89771008\n",
      "\t\tTotal megabyte-milliseconds taken by all reduce tasks=4244480\n",
      "\tMap-Reduce Framework\n",
      "\t\tMap input records=4100\n",
      "\t\tMap output records=11937375\n",
      "\t\tMap output bytes=97842608\n",
      "\t\tMap output materialized bytes=8953008\n",
      "\t\tInput split bytes=228\n",
      "\t\tCombine input records=11937375\n",
      "\t\tCombine output records=640030\n",
      "\t\tReduce input groups=427188\n",
      "\t\tReduce shuffle bytes=8953008\n",
      "\t\tReduce input records=640030\n",
      "\t\tReduce output records=427188\n",
      "\t\tSpilled Records=1920090\n",
      "\t\tShuffled Maps =2\n",
      "\t\tFailed Shuffles=0\n",
      "\t\tMerged Map outputs=2\n",
      "\t\tGC time elapsed (ms)=1040\n",
      "\t\tCPU time spent (ms)=68290\n",
      "\t\tPhysical memory (bytes) snapshot=795254784\n",
      "\t\tVirtual memory (bytes) snapshot=5771374592\n",
      "\t\tTotal committed heap usage (bytes)=519569408\n",
      "\tShuffle Errors\n",
      "\t\tBAD_ID=0\n",
      "\t\tCONNECTION=0\n",
      "\t\tIO_ERROR=0\n",
      "\t\tWRONG_LENGTH=0\n",
      "\t\tWRONG_MAP=0\n",
      "\t\tWRONG_REDUCE=0\n",
      "\tWiki stats\n",
      "\t\tTotal words=11937375\n",
      "\tFile Input Format Counters \n",
      "\t\tBytes Read=76874273\n",
      "\tFile Output Format Counters \n",
      "\t\tBytes Written=5370711\n",
      "20/10/03 18:22:23 INFO streaming.StreamJob: Output directory: wordcount_result_1601749278509631\n",
      "20/10/03 18:22:24 INFO client.RMProxy: Connecting to ResourceManager at /0.0.0.0:8032\n",
      "20/10/03 18:22:24 INFO client.RMProxy: Connecting to ResourceManager at /0.0.0.0:8032\n",
      "20/10/03 18:22:25 INFO mapred.FileInputFormat: Total input files to process : 1\n",
      "20/10/03 18:22:26 INFO mapreduce.JobSubmitter: number of splits:2\n",
      "20/10/03 18:22:26 INFO Configuration.deprecation: yarn.resourcemanager.system-metrics-publisher.enabled is deprecated. Instead, use yarn.system-metrics-publisher.enabled\n",
      "20/10/03 18:22:26 INFO mapreduce.JobSubmitter: Submitting tokens for job: job_1601735149697_0053\n",
      "20/10/03 18:22:26 INFO conf.Configuration: resource-types.xml not found\n",
      "20/10/03 18:22:26 INFO resource.ResourceUtils: Unable to find 'resource-types.xml'.\n",
      "20/10/03 18:22:26 INFO resource.ResourceUtils: Adding resource type - name = memory-mb, units = Mi, type = COUNTABLE\n",
      "20/10/03 18:22:26 INFO resource.ResourceUtils: Adding resource type - name = vcores, units = , type = COUNTABLE\n",
      "20/10/03 18:22:26 INFO impl.YarnClientImpl: Submitted application application_1601735149697_0053\n",
      "20/10/03 18:22:26 INFO mapreduce.Job: The url to track the job: http://172.17.0.92:8088/proxy/application_1601735149697_0053/\n",
      "20/10/03 18:22:26 INFO mapreduce.Job: Running job: job_1601735149697_0053\n",
      "20/10/03 18:22:33 INFO mapreduce.Job: Job job_1601735149697_0053 running in uber mode : false\n",
      "20/10/03 18:22:33 INFO mapreduce.Job:  map 0% reduce 0%\n",
      "20/10/03 18:22:41 INFO mapreduce.Job:  map 100% reduce 0%\n",
      "20/10/03 18:22:47 INFO mapreduce.Job:  map 100% reduce 100%\n",
      "20/10/03 18:22:47 INFO mapreduce.Job: Job job_1601735149697_0053 completed successfully\n",
      "20/10/03 18:22:47 INFO mapreduce.Job: Counters: 49\n",
      "\tFile System Counters\n",
      "\t\tFILE: Number of bytes read=6652226\n",
      "\t\tFILE: Number of bytes written=13934442\n",
      "\t\tFILE: Number of read operations=0\n",
      "\t\tFILE: Number of large read operations=0\n",
      "\t\tFILE: Number of write operations=0\n",
      "\t\tHDFS: Number of bytes read=5372592\n",
      "\t\tHDFS: Number of bytes written=5370672\n",
      "\t\tHDFS: Number of read operations=9\n",
      "\t\tHDFS: Number of large read operations=0\n",
      "\t\tHDFS: Number of write operations=2\n",
      "\tJob Counters \n",
      "\t\tLaunched map tasks=2\n",
      "\t\tLaunched reduce tasks=1\n",
      "\t\tData-local map tasks=2\n",
      "\t\tTotal time spent by all maps in occupied slots (ms)=11641\n",
      "\t\tTotal time spent by all reduces in occupied slots (ms)=3604\n",
      "\t\tTotal time spent by all map tasks (ms)=11641\n",
      "\t\tTotal time spent by all reduce tasks (ms)=3604\n",
      "\t\tTotal vcore-milliseconds taken by all map tasks=11641\n",
      "\t\tTotal vcore-milliseconds taken by all reduce tasks=3604\n",
      "\t\tTotal megabyte-milliseconds taken by all map tasks=11920384\n",
      "\t\tTotal megabyte-milliseconds taken by all reduce tasks=3690496\n",
      "\tMap-Reduce Framework\n",
      "\t\tMap input records=427188\n",
      "\t\tMap output records=427188\n",
      "\t\tMap output bytes=5797832\n",
      "\t\tMap output materialized bytes=6652232\n",
      "\t\tInput split bytes=260\n",
      "\t\tCombine input records=0\n",
      "\t\tCombine output records=0\n",
      "\t\tReduce input groups=427188\n",
      "\t\tReduce shuffle bytes=6652232\n",
      "\t\tReduce input records=427188\n",
      "\t\tReduce output records=427188\n",
      "\t\tSpilled Records=854376\n",
      "\t\tShuffled Maps =2\n",
      "\t\tFailed Shuffles=0\n",
      "\t\tMerged Map outputs=2\n",
      "\t\tGC time elapsed (ms)=478\n",
      "\t\tCPU time spent (ms)=6470\n",
      "\t\tPhysical memory (bytes) snapshot=779304960\n",
      "\t\tVirtual memory (bytes) snapshot=5779251200\n",
      "\t\tTotal committed heap usage (bytes)=487587840\n",
      "\tShuffle Errors\n",
      "\t\tBAD_ID=0\n",
      "\t\tCONNECTION=0\n",
      "\t\tIO_ERROR=0\n",
      "\t\tWRONG_LENGTH=0\n",
      "\t\tWRONG_MAP=0\n",
      "\t\tWRONG_REDUCE=0\n",
      "\tFile Input Format Counters \n",
      "\t\tBytes Read=5372332\n",
      "\tFile Output Format Counters \n",
      "\t\tBytes Written=5370672\n",
      "20/10/03 18:22:47 INFO streaming.StreamJob: Output directory: wordcount_result1_1601749278511177\n",
      "cat: Unable to write to output stream.\n"
     ]
    }
   ],
   "source": [
    "%%bash\n",
    "\n",
    "OUT_DIR=\"wordcount_result_\"$(date +\"%s%6N\")\n",
    "OUT_DIR1=\"wordcount_result1_\"$(date +\"%s%6N\")\n",
    "NUM_REDUCERS=4\n",
    "NUM_REDUCERS1=1\n",
    "\n",
    "hdfs dfs -rm -r -skipTrash ${OUT_DIR} > /dev/null\n",
    "hdfs dfs -rm -r -skipTrash ${OUT_DIR1} > /dev/null\n",
    "\n",
    "\n",
    "yarn jar /opt/cloudera/parcels/CDH/lib/hadoop-mapreduce/hadoop-streaming.jar \\\n",
    "    -D mapred.jab.name=\"Streaming wordCount\" \\\n",
    "    -D mapreduce.job.reduces=${NUM_REDUCERS} \\\n",
    "    -files mapper.py,reducer.py \\\n",
    "    -mapper \"python3 mapper.py\" \\\n",
    "    -combiner \"python3 reducer.py\" \\\n",
    "    -reducer \"python3 reducer.py\" \\\n",
    "    -input /data/wiki/en_articles_part \\\n",
    "    -output ${OUT_DIR} > /dev/null\n",
    "    \n",
    "yarn jar /opt/cloudera/parcels/CDH/lib/hadoop-mapreduce/hadoop-streaming.jar \\\n",
    "    -D mapreduce.job.reduces=${NUM_REDUCERS1} \\\n",
    "    -D mapred.jab.name=\"Sorting wordCount\" \\\n",
    "    -D mapreduce.job.output.key.comparator.class=org.apache.hadoop.mapreduce.lib.partition.KeyFieldBasedComparator \\\n",
    "    -D stream.map.output.field.separator=\"\\t\" \\\n",
    "    -D stream.num.map.output.key.fields=2 \\\n",
    "    -D mapreduce.map.output.key.field.separator=\"\\t\" \\\n",
    "    -D mapreduce.partition.keycomparator.options=-k1,1nr \\\n",
    "    -files mapper_1.py,reducer_1.py \\\n",
    "    -mapper 'python3 mapper_1.py' \\\n",
    "    -reducer 'python3 reducer_1.py' \\\n",
    "    -input ${OUT_DIR} \\\n",
    "    -output ${OUT_DIR1} > /dev/null\n",
    "\n",
    "hdfs dfs -cat ${OUT_DIR1}/part-00000 | sed -n '7p;8q'"
   ]
  },
  {
   "cell_type": "code",
   "execution_count": null,
   "metadata": {},
   "outputs": [],
   "source": []
  }
 ],
 "metadata": {
  "kernelspec": {
   "display_name": "Python 3",
   "language": "python",
   "name": "python3"
  },
  "language_info": {
   "codemirror_mode": {
    "name": "ipython",
    "version": 3
   },
   "file_extension": ".py",
   "mimetype": "text/x-python",
   "name": "python",
   "nbconvert_exporter": "python",
   "pygments_lexer": "ipython3",
   "version": "3.6.6"
  }
 },
 "nbformat": 4,
 "nbformat_minor": 2
}