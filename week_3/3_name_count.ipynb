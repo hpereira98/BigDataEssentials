{
 "cells": [
  {
   "cell_type": "markdown",
   "metadata": {},
   "source": [
    "#### Common warnings:\n",
    "\n",
    "1. __Backup your solution into the 'work' directory inside the home directory ('/home/jovyan'). It is the only one that state will be saved over sessions.__\n",
    "\n",
    "1. Please, ensure that you call the right interpreter (python2 or python3). Do not write just \"python\" without the major version. There is no guarantee that any particular version of Python is set as the default one in the Grading system.\n",
    "\n",
    "1. One cell must contain only one programming language.\n",
    "E.g. if a cell contains Python code and you also want to call a bash-command (using “!”) in it, you should move the bash to another cell.\n",
    "\n",
    "1. Our IPython converter is an improved version of the standard converter Nbconvert and it can process most of Jupyter's magic commands correctly (e.g. it understands \"%%bash\" and executes the cell as a \"bash\"-script). However, we highly recommend to avoid magics wherever possible.\n",
    "\n",
    "#### Hints for the YARN tasks:\n",
    "\n",
    "1. Please, use relative HDFS paths, i.e. dir1/file1 instead of /user/jovyan/dir1/file1. When you submit the code it will be executed on a real Hadoop cluster. For instance, user ‘jovyan’ may not exist there.\n",
    "\n",
    "1. Hadoop counters’ names should have only small latin letters. One exception: only the first letter of the name can be in upper case.\n",
    "\n",
    "1. In the Hadoop logs the counter of stop words should be before the counter of total words. For doing this please take into account that the counters are printed in the lexicographical order."
   ]
  },
  {
   "cell_type": "markdown",
   "metadata": {},
   "source": [
    "# Hadoop Streaming assignment 3: Name Count"
   ]
  },
  {
   "cell_type": "markdown",
   "metadata": {},
   "source": [
    "Make WordCount program for all the names in the dataset. Name is a word with the following properties:\n",
    "\n",
    "1) The first character is not a digit (other characters can be digits).\n",
    "\n",
    "2) The first character is uppercase, all the other characters that are letters are lowercase.\n",
    "\n",
    "3) There are less than 0.5% occurrences of this word, when this word regardless to its case appears in the dataset and the condition (2) is not met.\n",
    "\n",
    "Order by quantity, most popular first, output format:\n",
    "\n",
    "name <tab> count\n",
    "\n",
    "The result is the 5th line in the output.\n",
    "\n",
    "The result on the sample dataset:\n",
    "    french 5742"
   ]
  },
  {
   "cell_type": "markdown",
   "metadata": {},
   "source": [
    "## Step 1. Create mapper and reducer.\n",
    "\n",
    "<b>Hint:</b>  Demo task contains almost all the necessary pieces to complete this assignment. You may use the demo to implement the first MapReduce Job."
   ]
  },
  {
   "cell_type": "code",
   "execution_count": 48,
   "metadata": {},
   "outputs": [
    {
     "name": "stdout",
     "output_type": "stream",
     "text": [
      "Overwriting mapper.py\n"
     ]
    }
   ],
   "source": [
    "%%writefile mapper.py\n",
    "\n",
    "import sys\n",
    "import re\n",
    "\n",
    "\n",
    "def eprint(*args, **kwargs):\n",
    "    print(*args, file=sys.stderr, **kwargs)\n",
    "    \n",
    "for line in sys.stdin:\n",
    "    try:\n",
    "        article_id, text = line.strip().split('\\t', 1)\n",
    "    except ValueError as e:\n",
    "        continue\n",
    "    words = re.split(\"\\W*\\s+\\W*\", text, flags=re.UNICODE)\n",
    "    for word in words:\n",
    "        eprint(\"reporter:counter:Wiki stats,Total words,%d\" % 1)\n",
    "        print(\"%s\\t%d\" % (word, 1))"
   ]
  },
  {
   "cell_type": "code",
   "execution_count": 46,
   "metadata": {},
   "outputs": [
    {
     "name": "stdout",
     "output_type": "stream",
     "text": [
      "Overwriting reducer.py\n"
     ]
    }
   ],
   "source": [
    "%%writefile reducer.py\n",
    "\n",
    "import sys\n",
    "\n",
    "current_key = None\n",
    "word_sum = 0\n",
    "\n",
    "for line in sys.stdin:\n",
    "    try:\n",
    "        key, count = line.strip().split('\\t', 1)\n",
    "        count = int(count)\n",
    "    except ValueError as e:\n",
    "        continue\n",
    "    if current_key != key:\n",
    "        if current_key:\n",
    "            print(\"%s\\t%d\" % (current_key, word_sum))\n",
    "        word_sum = 0\n",
    "        current_key = key\n",
    "    word_sum += count\n",
    "\n",
    "if current_key:\n",
    "    print(\"%s\\t%d\" % (current_key, word_sum))"
   ]
  },
  {
   "cell_type": "code",
   "execution_count": 36,
   "metadata": {},
   "outputs": [],
   "source": [
    "# You can use this cell for other experiments: for example, for combiner."
   ]
  },
  {
   "cell_type": "markdown",
   "metadata": {},
   "source": [
    "## Step 2. Create sort job.\n",
    "\n",
    "<b>Hint:</b> You may use MapReduce comparator to solve this step. Make sure that the keys are sorted in ascending order."
   ]
  },
  {
   "cell_type": "code",
   "execution_count": 45,
   "metadata": {},
   "outputs": [
    {
     "name": "stdout",
     "output_type": "stream",
     "text": [
      "Overwriting mapper_1.py\n"
     ]
    }
   ],
   "source": [
    "%%writefile mapper_1.py\n",
    "\n",
    "import sys\n",
    "\n",
    "for line in sys.stdin:\n",
    "    try:\n",
    "        word, count = line.strip().split('\\t', 1)\n",
    "        count = int(count)\n",
    "        print(\"%d\\t%s\" % (count, word))\n",
    "    except ValueError as e:\n",
    "        continue"
   ]
  },
  {
   "cell_type": "code",
   "execution_count": 56,
   "metadata": {},
   "outputs": [
    {
     "name": "stdout",
     "output_type": "stream",
     "text": [
      "Overwriting reducer_1.py\n"
     ]
    }
   ],
   "source": [
    "%%writefile reducer_1.py\n",
    "\n",
    "import sys\n",
    "\n",
    "def eprint(*args, **kwargs):\n",
    "    print(*args, file=sys.stderr, **kwargs)\n",
    "    \n",
    "def is_name(word, count):\n",
    "    if word[0].isdigit():\n",
    "        return False\n",
    "    if word[0].isupper() and count <= 5968:\n",
    "        for letter in word[1:]:\n",
    "            if letter.isalpha():\n",
    "                if letter.isupper():\n",
    "                    return False\n",
    "        return True\n",
    "    elif count <= 5968:\n",
    "        return True\n",
    "    return False\n",
    "\n",
    "for line in sys.stdin:\n",
    "    try:\n",
    "        count, word = line.strip().split('\\t', 1)\n",
    "        count = int(count)\n",
    "        if is_name(word, count):\n",
    "            print(\"%s\\t%d\" % (word.lower(), count))\n",
    "    except ValueError as e:\n",
    "        continue"
   ]
  },
  {
   "cell_type": "markdown",
   "metadata": {},
   "source": [
    "## Step 3. Bash commands\n",
    "\n",
    "<b> Hint: </b> For printing the exact row you may use basic UNIX commands. For instance, sed/head/tail/... (if you know other commands, you can use them).\n",
    "\n",
    "To run both jobs, you must use two consecutive yarn-commands. Remember that the input for the second job is the ouput for the first job.\n",
    "\n",
    "__NB__: Please, use a defined python major version (e.g. `python3 mappper.py` instead of `python mapper.py`)!"
   ]
  },
  {
   "cell_type": "markdown",
   "metadata": {},
   "source": [
    "Only the answer to your task should be printed in the output stream (__stdout__) in the last cell. There should be no more output in this stream. In order to get rid of garbage [junk lines] (e.g. created by `hdfs dfs -rm` or `yarn` commands) redirect the output to /dev/null.\n",
    "\n",
    "#### Final notice:\n",
    "\n",
    "1. Please take into account that you must __not__ redirect __stderr__ to anywhere. Hadoop, Hive, and Spark print their logs to stderr and the Grading system also reads and analyses it.\n",
    "\n",
    "1. During checking the code from the notebook, the system runs all notebook's cells and reads the output of only the last filled cell. It is clear that any exception should not be thrown in the running cells. If you decide to write some text in a cell, you should change the style of the cell to Markdown (Cell -> Cell type -> Markdown).\n",
    "\n",
    "1. The Grader takes into account the output from the sample dataset you have in the notebook. Therefore, you have to \"Run All\" cells in the notebook before you send the ipynb solution.\n",
    "\n",
    "1. The name of the notebook must contain only Roman letters, numbers and characters “-” or “_”. For example, Windows adds something like \" (2)\" (with the leading space) at the end of a filename if you try to download a file with the same name. This is a problem, because you will have a space character and curly braces \"(\" and \")\". "
   ]
  },
  {
   "cell_type": "code",
   "execution_count": 1,
   "metadata": {},
   "outputs": [
    {
     "name": "stdout",
     "output_type": "stream",
     "text": [
      "french\t5741\n"
     ]
    },
    {
     "name": "stderr",
     "output_type": "stream",
     "text": [
      "rm: `wordcount_result_1601840907406415': No such file or directory\n",
      "rm: `wordcount_result1_1601840907407428': No such file or directory\n",
      "20/10/04 19:48:31 INFO client.RMProxy: Connecting to ResourceManager at /0.0.0.0:8032\n",
      "20/10/04 19:48:31 INFO client.RMProxy: Connecting to ResourceManager at /0.0.0.0:8032\n",
      "20/10/04 19:48:31 INFO mapred.FileInputFormat: Total input files to process : 1\n",
      "20/10/04 19:48:32 INFO mapreduce.JobSubmitter: number of splits:2\n",
      "20/10/04 19:48:32 INFO Configuration.deprecation: yarn.resourcemanager.system-metrics-publisher.enabled is deprecated. Instead, use yarn.system-metrics-publisher.enabled\n",
      "20/10/04 19:48:32 INFO mapreduce.JobSubmitter: Submitting tokens for job: job_1601837393566_0026\n",
      "20/10/04 19:48:32 INFO conf.Configuration: resource-types.xml not found\n",
      "20/10/04 19:48:32 INFO resource.ResourceUtils: Unable to find 'resource-types.xml'.\n",
      "20/10/04 19:48:32 INFO resource.ResourceUtils: Adding resource type - name = memory-mb, units = Mi, type = COUNTABLE\n",
      "20/10/04 19:48:32 INFO resource.ResourceUtils: Adding resource type - name = vcores, units = , type = COUNTABLE\n",
      "20/10/04 19:48:32 INFO impl.YarnClientImpl: Submitted application application_1601837393566_0026\n",
      "20/10/04 19:48:32 INFO mapreduce.Job: The url to track the job: http://172.17.0.43:8088/proxy/application_1601837393566_0026/\n",
      "20/10/04 19:48:32 INFO mapreduce.Job: Running job: job_1601837393566_0026\n",
      "20/10/04 19:48:37 INFO mapreduce.Job: Job job_1601837393566_0026 running in uber mode : false\n",
      "20/10/04 19:48:37 INFO mapreduce.Job:  map 0% reduce 0%\n",
      "20/10/04 19:48:54 INFO mapreduce.Job:  map 17% reduce 0%\n",
      "20/10/04 19:48:55 INFO mapreduce.Job:  map 34% reduce 0%\n",
      "20/10/04 19:49:00 INFO mapreduce.Job:  map 45% reduce 0%\n",
      "20/10/04 19:49:06 INFO mapreduce.Job:  map 46% reduce 0%\n",
      "20/10/04 19:49:12 INFO mapreduce.Job:  map 59% reduce 0%\n",
      "20/10/04 19:49:18 INFO mapreduce.Job:  map 67% reduce 0%\n",
      "20/10/04 19:49:21 INFO mapreduce.Job:  map 100% reduce 0%\n",
      "20/10/04 19:49:28 INFO mapreduce.Job:  map 100% reduce 25%\n",
      "20/10/04 19:49:33 INFO mapreduce.Job:  map 100% reduce 50%\n",
      "20/10/04 19:49:35 INFO mapreduce.Job:  map 100% reduce 100%\n",
      "20/10/04 19:49:36 INFO mapreduce.Job: Job job_1601837393566_0026 completed successfully\n",
      "20/10/04 19:49:36 INFO mapreduce.Job: Counters: 51\n",
      "\tFile System Counters\n",
      "\t\tFILE: Number of bytes read=19911917\n",
      "\t\tFILE: Number of bytes written=31085729\n",
      "\t\tFILE: Number of read operations=0\n",
      "\t\tFILE: Number of large read operations=0\n",
      "\t\tFILE: Number of write operations=0\n",
      "\t\tHDFS: Number of bytes read=76874501\n",
      "\t\tHDFS: Number of bytes written=5884946\n",
      "\t\tHDFS: Number of read operations=18\n",
      "\t\tHDFS: Number of large read operations=0\n",
      "\t\tHDFS: Number of write operations=8\n",
      "\tJob Counters \n",
      "\t\tKilled reduce tasks=1\n",
      "\t\tLaunched map tasks=2\n",
      "\t\tLaunched reduce tasks=4\n",
      "\t\tData-local map tasks=2\n",
      "\t\tTotal time spent by all maps in occupied slots (ms)=83200\n",
      "\t\tTotal time spent by all reduces in occupied slots (ms)=28523\n",
      "\t\tTotal time spent by all map tasks (ms)=83200\n",
      "\t\tTotal time spent by all reduce tasks (ms)=28523\n",
      "\t\tTotal vcore-milliseconds taken by all map tasks=83200\n",
      "\t\tTotal vcore-milliseconds taken by all reduce tasks=28523\n",
      "\t\tTotal megabyte-milliseconds taken by all map tasks=85196800\n",
      "\t\tTotal megabyte-milliseconds taken by all reduce tasks=29207552\n",
      "\tMap-Reduce Framework\n",
      "\t\tMap input records=4100\n",
      "\t\tMap output records=11937375\n",
      "\t\tMap output bytes=97842522\n",
      "\t\tMap output materialized bytes=9943063\n",
      "\t\tInput split bytes=228\n",
      "\t\tCombine input records=11937375\n",
      "\t\tCombine output records=718673\n",
      "\t\tReduce input groups=474354\n",
      "\t\tReduce shuffle bytes=9943063\n",
      "\t\tReduce input records=718673\n",
      "\t\tReduce output records=474354\n",
      "\t\tSpilled Records=2156019\n",
      "\t\tShuffled Maps =8\n",
      "\t\tFailed Shuffles=0\n",
      "\t\tMerged Map outputs=8\n",
      "\t\tGC time elapsed (ms)=1856\n",
      "\t\tCPU time spent (ms)=70020\n",
      "\t\tPhysical memory (bytes) snapshot=1382375424\n",
      "\t\tVirtual memory (bytes) snapshot=11589292032\n",
      "\t\tTotal committed heap usage (bytes)=804782080\n",
      "\tShuffle Errors\n",
      "\t\tBAD_ID=0\n",
      "\t\tCONNECTION=0\n",
      "\t\tIO_ERROR=0\n",
      "\t\tWRONG_LENGTH=0\n",
      "\t\tWRONG_MAP=0\n",
      "\t\tWRONG_REDUCE=0\n",
      "\tWiki stats\n",
      "\t\tTotal words=11937375\n",
      "\tFile Input Format Counters \n",
      "\t\tBytes Read=76874273\n",
      "\tFile Output Format Counters \n",
      "\t\tBytes Written=5884946\n",
      "20/10/04 19:49:36 INFO streaming.StreamJob: Output directory: wordcount_result_1601840907406415\n",
      "20/10/04 19:49:37 INFO client.RMProxy: Connecting to ResourceManager at /0.0.0.0:8032\n",
      "20/10/04 19:49:37 INFO client.RMProxy: Connecting to ResourceManager at /0.0.0.0:8032\n",
      "20/10/04 19:49:38 INFO mapred.FileInputFormat: Total input files to process : 4\n",
      "20/10/04 19:49:38 INFO mapreduce.JobSubmitter: number of splits:4\n",
      "20/10/04 19:49:38 INFO Configuration.deprecation: yarn.resourcemanager.system-metrics-publisher.enabled is deprecated. Instead, use yarn.system-metrics-publisher.enabled\n",
      "20/10/04 19:49:38 INFO mapreduce.JobSubmitter: Submitting tokens for job: job_1601837393566_0027\n",
      "20/10/04 19:49:38 INFO conf.Configuration: resource-types.xml not found\n",
      "20/10/04 19:49:38 INFO resource.ResourceUtils: Unable to find 'resource-types.xml'.\n",
      "20/10/04 19:49:38 INFO resource.ResourceUtils: Adding resource type - name = memory-mb, units = Mi, type = COUNTABLE\n",
      "20/10/04 19:49:38 INFO resource.ResourceUtils: Adding resource type - name = vcores, units = , type = COUNTABLE\n",
      "20/10/04 19:49:38 INFO impl.YarnClientImpl: Submitted application application_1601837393566_0027\n",
      "20/10/04 19:49:38 INFO mapreduce.Job: The url to track the job: http://172.17.0.43:8088/proxy/application_1601837393566_0027/\n",
      "20/10/04 19:49:38 INFO mapreduce.Job: Running job: job_1601837393566_0027\n",
      "20/10/04 19:49:46 INFO mapreduce.Job: Job job_1601837393566_0027 running in uber mode : false\n",
      "20/10/04 19:49:46 INFO mapreduce.Job:  map 0% reduce 0%\n",
      "20/10/04 19:50:00 INFO mapreduce.Job:  map 50% reduce 0%\n",
      "20/10/04 19:50:01 INFO mapreduce.Job:  map 100% reduce 0%\n",
      "20/10/04 19:50:06 INFO mapreduce.Job:  map 100% reduce 100%\n",
      "20/10/04 19:50:07 INFO mapreduce.Job: Job job_1601837393566_0027 completed successfully\n",
      "20/10/04 19:50:07 INFO mapreduce.Job: Counters: 49\n",
      "\tFile System Counters\n",
      "\t\tFILE: Number of bytes read=7307959\n",
      "\t\tFILE: Number of bytes written=15665946\n",
      "\t\tFILE: Number of read operations=0\n",
      "\t\tFILE: Number of large read operations=0\n",
      "\t\tFILE: Number of write operations=0\n",
      "\t\tHDFS: Number of bytes read=5885466\n",
      "\t\tHDFS: Number of bytes written=4469768\n",
      "\t\tHDFS: Number of read operations=15\n",
      "\t\tHDFS: Number of large read operations=0\n",
      "\t\tHDFS: Number of write operations=2\n",
      "\tJob Counters \n",
      "\t\tLaunched map tasks=4\n",
      "\t\tLaunched reduce tasks=1\n",
      "\t\tData-local map tasks=4\n",
      "\t\tTotal time spent by all maps in occupied slots (ms)=45222\n",
      "\t\tTotal time spent by all reduces in occupied slots (ms)=3285\n",
      "\t\tTotal time spent by all map tasks (ms)=45222\n",
      "\t\tTotal time spent by all reduce tasks (ms)=3285\n",
      "\t\tTotal vcore-milliseconds taken by all map tasks=45222\n",
      "\t\tTotal vcore-milliseconds taken by all reduce tasks=3285\n",
      "\t\tTotal megabyte-milliseconds taken by all map tasks=46307328\n",
      "\t\tTotal megabyte-milliseconds taken by all reduce tasks=3363840\n",
      "\tMap-Reduce Framework\n",
      "\t\tMap input records=474354\n",
      "\t\tMap output records=474354\n",
      "\t\tMap output bytes=6359233\n",
      "\t\tMap output materialized bytes=7307977\n",
      "\t\tInput split bytes=520\n",
      "\t\tCombine input records=0\n",
      "\t\tCombine output records=0\n",
      "\t\tReduce input groups=474354\n",
      "\t\tReduce shuffle bytes=7307977\n",
      "\t\tReduce input records=474354\n",
      "\t\tReduce output records=359584\n",
      "\t\tSpilled Records=948708\n",
      "\t\tShuffled Maps =4\n",
      "\t\tFailed Shuffles=0\n",
      "\t\tMerged Map outputs=4\n",
      "\t\tGC time elapsed (ms)=1505\n",
      "\t\tCPU time spent (ms)=9000\n",
      "\t\tPhysical memory (bytes) snapshot=1358503936\n",
      "\t\tVirtual memory (bytes) snapshot=9607368704\n",
      "\t\tTotal committed heap usage (bytes)=884998144\n",
      "\tShuffle Errors\n",
      "\t\tBAD_ID=0\n",
      "\t\tCONNECTION=0\n",
      "\t\tIO_ERROR=0\n",
      "\t\tWRONG_LENGTH=0\n",
      "\t\tWRONG_MAP=0\n",
      "\t\tWRONG_REDUCE=0\n",
      "\tFile Input Format Counters \n",
      "\t\tBytes Read=5884946\n",
      "\tFile Output Format Counters \n",
      "\t\tBytes Written=4469768\n",
      "20/10/04 19:50:07 INFO streaming.StreamJob: Output directory: wordcount_result1_1601840907407428\n",
      "cat: Unable to write to output stream.\n"
     ]
    }
   ],
   "source": [
    "%%bash\n",
    "\n",
    "OUT_DIR=\"wordcount_result_\"$(date +\"%s%6N\")\n",
    "OUT_DIR1=\"wordcount_result1_\"$(date +\"%s%6N\")\n",
    "NUM_REDUCERS=4\n",
    "NUM_REDUCERS1=1\n",
    "\n",
    "hdfs dfs -rm -r -skipTrash ${OUT_DIR} > /dev/null\n",
    "hdfs dfs -rm -r -skipTrash ${OUT_DIR1} > /dev/null\n",
    "\n",
    "\n",
    "yarn jar /opt/cloudera/parcels/CDH/lib/hadoop-mapreduce/hadoop-streaming.jar \\\n",
    "    -D mapred.jab.name=\"Streaming wordCount\" \\\n",
    "    -D mapreduce.job.reduces=${NUM_REDUCERS} \\\n",
    "    -files mapper.py,reducer.py \\\n",
    "    -mapper \"python3 mapper.py\" \\\n",
    "    -combiner \"python3 reducer.py\" \\\n",
    "    -reducer \"python3 reducer.py\" \\\n",
    "    -input /data/wiki/en_articles_part \\\n",
    "    -output ${OUT_DIR} > /dev/null\n",
    "    \n",
    "yarn jar /opt/cloudera/parcels/CDH/lib/hadoop-mapreduce/hadoop-streaming.jar \\\n",
    "    -D mapreduce.job.reduces=${NUM_REDUCERS1} \\\n",
    "    -D mapred.jab.name=\"Sorting wordCount\" \\\n",
    "    -D mapreduce.job.output.key.comparator.class=org.apache.hadoop.mapreduce.lib.partition.KeyFieldBasedComparator \\\n",
    "    -D stream.map.output.field.separator=\"\\t\" \\\n",
    "    -D stream.num.map.output.key.fields=2 \\\n",
    "    -D mapreduce.map.output.key.field.separator=\"\\t\" \\\n",
    "    -D mapreduce.partition.keycomparator.options=-k1,1nr \\\n",
    "    -files mapper_1.py,reducer_1.py \\\n",
    "    -mapper 'python3 mapper_1.py' \\\n",
    "    -reducer 'python3 reducer_1.py' \\\n",
    "    -input ${OUT_DIR} \\\n",
    "    -output ${OUT_DIR1} > /dev/null\n",
    "\n",
    "hdfs dfs -cat ${OUT_DIR1}/part-00000 | sed -n '5p;6q'"
   ]
  },
  {
   "cell_type": "code",
   "execution_count": 25,
   "metadata": {},
   "outputs": [],
   "source": []
  },
  {
   "cell_type": "code",
   "execution_count": null,
   "metadata": {},
   "outputs": [],
   "source": []
  }
 ],
 "metadata": {
  "kernelspec": {
   "display_name": "Python 3",
   "language": "python",
   "name": "python3"
  },
  "language_info": {
   "codemirror_mode": {
    "name": "ipython",
    "version": 3
   },
   "file_extension": ".py",
   "mimetype": "text/x-python",
   "name": "python",
   "nbconvert_exporter": "python",
   "pygments_lexer": "ipython3",
   "version": "3.6.6"
  }
 },
 "nbformat": 4,
 "nbformat_minor": 2
}
